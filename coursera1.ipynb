{
 "cells": [
  {
   "cell_type": "code",
   "execution_count": null,
   "id": "c1364d81-1528-48c3-af57-dfbb2e797659",
   "metadata": {},
   "outputs": [],
   "source": [
    "# Data Science Tools and Ecosystem"
   ]
  },
  {
   "cell_type": "code",
   "execution_count": null,
   "id": "2db671f9-4be8-484b-af0f-72b7be1ccc13",
   "metadata": {},
   "outputs": [],
   "source": [
    "## Introduction\n",
    "In this notebook, we will explore various tools, languages, and libraries used in data science.\n",
    "We'll also cover basic arithmetic operations, create tables, and demonstrate how to convert units like minutes to hours.\n",
    "This notebook serves as a beginner-friendly introduction to the data science ecosystem."
   ]
  },
  {
   "cell_type": "code",
   "execution_count": null,
   "id": "060d2620-d745-45f4-bc02-e4ddbe62ae2e",
   "metadata": {},
   "outputs": [],
   "source": [
    "## Data Science Languages\n",
    "Some of the most commonly used programming languages in data science include:\n",
    "- Python\n",
    "- R\n",
    "- SQL\n",
    "- Julia\n",
    "- Scala\n",
    "- Java\n",
    "- MATLAB"
   ]
  },
  {
   "cell_type": "code",
   "execution_count": null,
   "id": "3fb9ccdc-d8fc-411b-96cf-941aa2c2e26d",
   "metadata": {},
   "outputs": [],
   "source": [
    "## Data Science Libraries\n",
    "Here are some popular libraries used in data science:\n",
    "- **Python Libraries**:\n",
    "  - NumPy\n",
    "  - Pandas\n",
    "  - Matplotlib\n",
    "  - Seaborn\n",
    "  - Scikit-learn\n",
    "  - TensorFlow\n",
    "  - PyTorch\n",
    "- **R Libraries**:\n",
    "  - ggplot2\n",
    "  - dplyr\n",
    "  - caret\n",
    "  - tidyr\n",
    "- **SQL Libraries**:\n",
    "  - SQLite\n",
    "  - PostgreSQL"
   ]
  },
  {
   "cell_type": "code",
   "execution_count": null,
   "id": "9fe19856-45d9-4f02-b93c-972eba66b651",
   "metadata": {},
   "outputs": [],
   "source": [
    "## Data Science Tools\n",
    "| Category              | Tool Name          | Description                                   |\n",
    "|-----------------------|--------------------|-----------------------------------------------|\n",
    "| Data Analysis         | Jupyter Notebook   | Interactive environment for data exploration |\n",
    "| Machine Learning      | Scikit-learn       | Library for machine learning algorithms       |\n",
    "| Visualization         | Tableau            | Tool for creating interactive dashboards      |\n",
    "| Big Data Processing   | Apache Spark       | Framework for distributed data processing     |\n",
    "| Version Control       | Git                | Tool for tracking code changes                |\n",
    "| Database Management   | MySQL              | Relational database management system         |"
   ]
  },
  {
   "cell_type": "code",
   "execution_count": null,
   "id": "e3d8777c-34f9-4354-a9c4-8441f0a0f9fe",
   "metadata": {},
   "outputs": [],
   "source": [
    "## Arithmetic Expression Examples\n",
    "Arithmetic expressions are fundamental in programming and data science. Below, \n",
    "we will demonstrate simple arithmetic operations such as addition and multiplication."
   ]
  },
  {
   "cell_type": "code",
   "execution_count": null,
   "id": "8f10940d-8d7d-4bef-ae81-707d069028a7",
   "metadata": {},
   "outputs": [],
   "source": [
    "# Arithmetic Operations in R\n",
    "a <- 5\n",
    "b <- 3\n",
    "c <- 2\n",
    "\n",
    "# Addition\n",
    "addition_result <- a + b\n",
    "cat(\"Addition:\", a, \"+\", b, \"=\", addition_result, \"\\n\")\n",
    "\n",
    "# Multiplication\n",
    "multiplication_result <- a * c\n",
    "cat(\"Multiplication:\", a, \"*\", c, \"=\", multiplication_result, \"\\n\")"
   ]
  },
  {
   "cell_type": "code",
   "execution_count": null,
   "id": "0cbc9a5d-1dc1-4974-bb06-ae01070b13bb",
   "metadata": {},
   "outputs": [],
   "source": [
    "# Convert Minutes to Hours in R\n",
    "minutes <- 150\n",
    "hours <- minutes / 60\n",
    "cat(minutes, \"minutes is equal to\", round(hours, 2), \"hours\\n\")"
   ]
  },
  {
   "cell_type": "code",
   "execution_count": null,
   "id": "4a5a7b26-2d82-4a3f-9116-2a3b2992cd08",
   "metadata": {},
   "outputs": [],
   "source": [
    "## Objectives\n",
    "The objectives of this notebook are:\n",
    "- To introduce the tools, languages, and libraries used in data science.\n",
    "- To demonstrate basic arithmetic operations in Python.\n",
    "- To provide examples of unit conversion (e.g., minutes to hours).\n",
    "- To familiarize users with Jupyter Notebook's markdown and code cells.\n",
    "- To encourage sharing and collaboration through GitHub."
   ]
  },
  {
   "cell_type": "code",
   "execution_count": null,
   "id": "43f4abf9-3a76-4f45-92e8-aaa51d9943db",
   "metadata": {},
   "outputs": [],
   "source": [
    "## Author\n",
    "This notebook was created by **Carlos de Jesus Rodriguez Mendez**."
   ]
  },
  {
   "cell_type": "code",
   "execution_count": null,
   "id": "158b1b2b-1d35-4745-a2b7-8d01e1e9e2b8",
   "metadata": {},
   "outputs": [],
   "source": []
  }
 ],
 "metadata": {
  "kernelspec": {
   "display_name": "Python 3 (ipykernel)",
   "language": "python",
   "name": "python3"
  },
  "language_info": {
   "codemirror_mode": {
    "name": "ipython",
    "version": 3
   },
   "file_extension": ".py",
   "mimetype": "text/x-python",
   "name": "python",
   "nbconvert_exporter": "python",
   "pygments_lexer": "ipython3",
   "version": "3.12.8"
  }
 },
 "nbformat": 4,
 "nbformat_minor": 5
}
