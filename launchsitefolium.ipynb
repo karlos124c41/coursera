{
 "cells": [
  {
   "cell_type": "code",
   "execution_count": null,
   "id": "4bdc9f3d",
   "metadata": {},
   "outputs": [],
   "source": [
    "# -*- coding: utf-8 -*-\n",
    "\"\"\"\n",
    "Created on Mon Feb 10 12:30:37 2025\n",
    "\n",
    "@author: Karlos\n",
    "\"\"\"\n",
    "\n",
    "import folium\n",
    "import wget\n",
    "import pandas as pd\n",
    "\n"
   ]
  },
  {
   "cell_type": "code",
   "execution_count": null,
   "id": "a0fe5a46",
   "metadata": {},
   "outputs": [],
   "source": [
    "# Import folium MarkerCluster plugin\n",
    "from folium.plugins import MarkerCluster\n"
   ]
  },
  {
   "cell_type": "code",
   "execution_count": null,
   "id": "a0d505e9",
   "metadata": {},
   "outputs": [],
   "source": [
    "# Import folium MousePosition plugin\n",
    "from folium.plugins import MousePosition\n"
   ]
  },
  {
   "cell_type": "code",
   "execution_count": null,
   "id": "25dbccde",
   "metadata": {},
   "outputs": [],
   "source": [
    "# Import folium DivIcon plugin\n",
    "from folium.features import DivIcon\n",
    "\n",
    "spacex_csv_file = wget.download('https://cf-courses-data.s3.us.cloud-object-storage.appdomain.cloud/IBM-DS0321EN-SkillsNetwork/datasets/spacex_launch_geo.csv')\n",
    "spacex_df=pd.read_csv(spacex_csv_file)\n",
    "\n"
   ]
  },
  {
   "cell_type": "code",
   "execution_count": null,
   "id": "a4786fbf",
   "metadata": {},
   "outputs": [],
   "source": [
    "# Select relevant sub-columns: `Launch Site`, `Lat(Latitude)`, `Long(Longitude)`, `class`\n",
    "spacex_df = spacex_df[['Launch Site', 'Lat', 'Long', 'class']]\n",
    "launch_sites_df = spacex_df.groupby(['Launch Site'], as_index=False).first()\n",
    "launch_sites_df = launch_sites_df[['Launch Site', 'Lat', 'Long']]\n",
    "launch_sites_df\n",
    "\n"
   ]
  },
  {
   "cell_type": "code",
   "execution_count": null,
   "id": "fb517ea7",
   "metadata": {},
   "outputs": [],
   "source": [
    "# Start location is NASA Johnson Space Center\n",
    "nasa_coordinate = [29.559684888503615, -95.0830971930759]\n",
    "site_map = folium.Map(location=nasa_coordinate, zoom_start=10)\n",
    "\n"
   ]
  },
  {
   "cell_type": "code",
   "execution_count": null,
   "id": "f1c51ed2",
   "metadata": {},
   "outputs": [],
   "source": [
    "# Create a blue circle at NASA Johnson Space Center's coordinate with a popup label showing its name\n",
    "circle = folium.Circle(nasa_coordinate, radius=1000, color='#d35400', fill=True).add_child(folium.Popup('NASA Johnson Space Center'))\n"
   ]
  },
  {
   "cell_type": "code",
   "execution_count": null,
   "id": "3e0f5cb0",
   "metadata": {},
   "outputs": [],
   "source": [
    "# Create a blue circle at NASA Johnson Space Center's coordinate with a icon showing its name\n",
    "marker = folium.map.Marker(\n",
    "    nasa_coordinate,\n"
   ]
  },
  {
   "cell_type": "code",
   "execution_count": null,
   "id": "f10d6230",
   "metadata": {},
   "outputs": [],
   "source": [
    "    # Create an icon as a text label\n",
    "    icon=DivIcon(\n",
    "        icon_size=(20,20),\n",
    "        icon_anchor=(0,0),\n",
    "        html='<div style=\"font-size: 12; color:#d35400;\"><b>%s</b></div>' % 'NASA JSC',\n",
    "        )\n",
    "    )\n",
    "site_map.add_child(circle)\n",
    "site_map.add_child(marker)\n",
    "\n",
    "\n",
    "Task 2: Mark the success/failed launches for each site on the map\n",
    "try to enhance the map by adding the launch outcomes for each site, and see which sites have high success rates. Recall that data frame spacex_df has detailed launch records, and the class column indicates if this launch was successful or not\n",
    "Next, let's create markers for all launch records. If a launch was successful (class=1), then we use a green marker and if a launch was failed, we use a red marker (class=0)\n",
    "Note that a launch only happens in one of the four launch sites, which means many launch records will have the exact same coordinate. Marker clusters can be a good way to simplify a map containing many markers having the same coordinate.\n",
    "Let's first create a MarkerCluster object\n",
    "marker_cluster = MarkerCluster()\n",
    "TODO: Create a new column in launch_sites dataframe called marker_color to store the marker colors based on the class value\n"
   ]
  },
  {
   "cell_type": "code",
   "execution_count": null,
   "id": "20afc496",
   "metadata": {},
   "outputs": [],
   "source": [
    "# Apply a function to check the value of `class` column\n"
   ]
  },
  {
   "cell_type": "code",
   "execution_count": null,
   "id": "71c2f6b1",
   "metadata": {},
   "outputs": [],
   "source": [
    "# If class=1, marker_color value will be green\n"
   ]
  },
  {
   "cell_type": "code",
   "execution_count": null,
   "id": "0ec67a2b",
   "metadata": {},
   "outputs": [],
   "source": [
    "# If class=0, marker_color value will be red\n"
   ]
  },
  {
   "cell_type": "code",
   "execution_count": null,
   "id": "2f750c90",
   "metadata": {},
   "outputs": [],
   "source": [
    "# Function to assign color to launch outcome\n",
    "def assign_marker_color(launch_outcome):\n",
    "    if launch_outcome == 1:\n",
    "        return 'green'\n",
    "    else:\n",
    "        return 'red'\n",
    "    \n",
    "spacex_df['marker_color'] = spacex_df['class'].apply(assign_marker_color)\n",
    "spacex_df.tail(10)\n",
    "TODO: For each launch result in spacex_df data frame, add a folium.Marker to marker_cluster\n"
   ]
  },
  {
   "cell_type": "code",
   "execution_count": null,
   "id": "27931d11",
   "metadata": {},
   "outputs": [],
   "source": [
    "# Add marker_cluster to current site_map\n",
    "site_map.add_child(marker_cluster)\n",
    "\n"
   ]
  },
  {
   "cell_type": "code",
   "execution_count": null,
   "id": "61d95a6c",
   "metadata": {},
   "outputs": [],
   "source": [
    "# for each row in spacex_df data frame\n"
   ]
  },
  {
   "cell_type": "code",
   "execution_count": null,
   "id": "0587658e",
   "metadata": {},
   "outputs": [],
   "source": [
    "# create a Marker object with its coordinate\n"
   ]
  },
  {
   "cell_type": "code",
   "execution_count": null,
   "id": "d4890e8e",
   "metadata": {},
   "outputs": [],
   "source": [
    "# and customize the Marker's icon property to indicate if this launch was successed or failed, \n"
   ]
  },
  {
   "cell_type": "code",
   "execution_count": null,
   "id": "9d60b180",
   "metadata": {},
   "outputs": [],
   "source": [
    "# e.g., icon=folium.Icon(color='white', icon_color=row['marker_color']\n",
    "for index, record in spacex_df.iterrows():\n"
   ]
  },
  {
   "cell_type": "code",
   "execution_count": null,
   "id": "a7f5b87f",
   "metadata": {},
   "outputs": [],
   "source": [
    "    # TODO: Create and add a Marker cluster to the site map\n"
   ]
  },
  {
   "cell_type": "code",
   "execution_count": null,
   "id": "9bb1f54d",
   "metadata": {},
   "outputs": [],
   "source": [
    "    # marker = folium.Marker(...)\n",
    "    marker_cluster.add_child(marker)\n",
    "\n",
    "site_map\n",
    "\n",
    "\n",
    "TASK 3: Calculate the distances between a launch site to its proximities¶\n",
    "\n",
    "Next, we need to explore and analyze the proximities of launch sites.\n",
    "\n",
    "Let's first add a MousePosition on the map to get coordinate for a mouse over a point on the map. As such, while you are exploring the map, you can easily find the coordinates of any points of interests (such as railway)\n"
   ]
  },
  {
   "cell_type": "code",
   "execution_count": null,
   "id": "92e19728",
   "metadata": {},
   "outputs": [],
   "source": [
    "# Add Mouse Position to get the coordinate (Lat, Long) for a mouse over on the map\n",
    "formatter = \"function(num) {return L.Util.formatNum(num, 5);};\"\n",
    "mouse_position = MousePosition(\n",
    "    position='topright',\n",
    "    separator=' Long: ',\n",
    "    empty_string='NaN',\n",
    "    lng_first=False,\n",
    "    num_digits=20,\n",
    "    prefix='Lat:',\n",
    "    lat_formatter=formatter,\n",
    "    lng_formatter=formatter,\n",
    ")\n",
    "\n",
    "site_map.add_child(mouse_position)\n",
    "site_map\n"
   ]
  },
  {
   "cell_type": "code",
   "execution_count": null,
   "id": "8b608a71",
   "metadata": {},
   "outputs": [],
   "source": [
    "# Add Mouse Position to get the coordinate (Lat, Long) for a mouse over on the map\n",
    "formatter = \"function(num) {return L.Util.formatNum(num, 5);};\"\n",
    "mouse_position = MousePosition(\n",
    "    position='topright',\n",
    "    separator=' Long: ',\n",
    "    empty_string='NaN',\n",
    "    lng_first=False,\n",
    "    num_digits=20,\n",
    "    prefix='Lat:',\n",
    "    lat_formatter=formatter,\n",
    "    lng_formatter=formatter,\n",
    ")\n",
    "\n",
    "site_map.add_child(mouse_position)\n",
    "site_map\n",
    "\n",
    "Now zoom in to a launch site and explore its proximity to see if you can easily find any railway, highway, coastline, etc. Move your mouse to these points and mark down their coordinates (shown on the top-left) in order to the distance to the launch site.\n",
    "\n",
    "You can calculate the distance between two points on the map based on their Lat and Long values using the following method:\n",
    "    \n",
    "from math import sin, cos, sqrt, atan2, radians\n",
    "\n",
    "def calculate_distance(lat1, lon1, lat2, lon2):\n"
   ]
  },
  {
   "cell_type": "code",
   "execution_count": null,
   "id": "8bed725d",
   "metadata": {},
   "outputs": [],
   "source": [
    "    # approximate radius of earth in km\n",
    "    R = 6373.0\n",
    "\n",
    "    lat1 = radians(lat1)\n",
    "    lon1 = radians(lon1)\n",
    "    lat2 = radians(lat2)\n",
    "    lon2 = radians(lon2)\n",
    "\n",
    "    dlon = lon2 - lon1\n",
    "    dlat = lat2 - lat1\n",
    "\n",
    "    a = sin(dlat / 2)**2 + cos(lat1) * cos(lat2) * sin(dlon / 2)**2\n",
    "    c = 2 * atan2(sqrt(a), sqrt(1 - a))\n",
    "\n",
    "    distance = R * c\n",
    "    return distance\n",
    "\n",
    "TODO: Mark down a point on the closest coastline using MousePosition and calculate the distance between the coastline point and the launch site.    \n"
   ]
  },
  {
   "cell_type": "code",
   "execution_count": null,
   "id": "bc2f7f54",
   "metadata": {},
   "outputs": [],
   "source": [
    "# find coordinate of the closet coastline\n"
   ]
  },
  {
   "cell_type": "code",
   "execution_count": null,
   "id": "d61a3582",
   "metadata": {},
   "outputs": [],
   "source": [
    "# e.g.,: Lat: 28.56367  Lon: -80.57163\n"
   ]
  },
  {
   "cell_type": "code",
   "execution_count": null,
   "id": "465cc639",
   "metadata": {},
   "outputs": [],
   "source": [
    "# distance_coastline = calculate_distance(launch_site_lat, launch_site_lon, coastline_lat, coastline_lon)\n",
    "TODO: After obtained its coordinate, create a folium.Marker to show the distance\n"
   ]
  },
  {
   "cell_type": "code",
   "execution_count": null,
   "id": "69e3f90f",
   "metadata": {},
   "outputs": [],
   "source": [
    "# Create and add a folium.Marker on your selected closest coastline point on the map\n"
   ]
  },
  {
   "cell_type": "code",
   "execution_count": null,
   "id": "b4020e18",
   "metadata": {},
   "outputs": [],
   "source": [
    "# Display the distance between coastline point and launch site using the icon property \n"
   ]
  },
  {
   "cell_type": "code",
   "execution_count": null,
   "id": "b8c48429",
   "metadata": {},
   "outputs": [],
   "source": [
    "# for example\n"
   ]
  },
  {
   "cell_type": "code",
   "execution_count": null,
   "id": "4f7446bb",
   "metadata": {},
   "outputs": [],
   "source": [
    "# distance_marker = folium.Marker(\n"
   ]
  },
  {
   "cell_type": "code",
   "execution_count": null,
   "id": "b3b8dd06",
   "metadata": {},
   "outputs": [],
   "source": [
    "#    coordinate,\n"
   ]
  },
  {
   "cell_type": "code",
   "execution_count": null,
   "id": "4f77d93c",
   "metadata": {},
   "outputs": [],
   "source": [
    "#    icon=DivIcon(\n"
   ]
  },
  {
   "cell_type": "code",
   "execution_count": null,
   "id": "4fb5fdf6",
   "metadata": {},
   "outputs": [],
   "source": [
    "#        icon_size=(20,20),\n"
   ]
  },
  {
   "cell_type": "code",
   "execution_count": null,
   "id": "464ae877",
   "metadata": {},
   "outputs": [],
   "source": [
    "#        icon_anchor=(0,0),\n"
   ]
  },
  {
   "cell_type": "code",
   "execution_count": null,
   "id": "924d9ffa",
   "metadata": {},
   "outputs": [],
   "source": [
    "#        html='<div style=\"font-size: 12; color:#d35400;\"><b>%s</b></div>' % \"{:10.2f} KM\".format(distance),\n"
   ]
  },
  {
   "cell_type": "code",
   "execution_count": null,
   "id": "6596759d",
   "metadata": {},
   "outputs": [],
   "source": [
    "#        )\n"
   ]
  },
  {
   "cell_type": "code",
   "execution_count": null,
   "id": "f07c86cd",
   "metadata": {},
   "outputs": [],
   "source": [
    "#    )\n",
    "\n",
    "TODO: Draw a PolyLine between a launch site to the selected coastline point\n"
   ]
  },
  {
   "cell_type": "code",
   "execution_count": null,
   "id": "abe19bf1",
   "metadata": {},
   "outputs": [],
   "source": [
    "# Create a `folium.PolyLine` object using the coastline coordinates and launch site coordinate\n"
   ]
  },
  {
   "cell_type": "code",
   "execution_count": null,
   "id": "773974ef",
   "metadata": {},
   "outputs": [],
   "source": [
    "# lines=folium.PolyLine(locations=coordinates, weight=1)\n",
    "site_map.add_child(lines)\n",
    "TODO: Similarly, you can draw a line betwee a launch site to its closest city, railway, highway, etc. You need to use MousePosition to find the their coordinates on the map first\n"
   ]
  },
  {
   "cell_type": "code",
   "execution_count": null,
   "id": "2e67744d",
   "metadata": {},
   "outputs": [],
   "source": [
    "# Create a marker with distance to a closest city, railway, highway, etc.\n"
   ]
  },
  {
   "cell_type": "code",
   "execution_count": null,
   "id": "3276a04c",
   "metadata": {},
   "outputs": [],
   "source": [
    "# Draw a line between the marker to the launch site\n",
    "\n",
    "After you plot distance lines to the proximities, you can answer the following questions easily:\n",
    "\n",
    "    Are launch sites in close proximity to railways?\n",
    "    Are launch sites in close proximity to highways?\n",
    "    Are launch sites in close proximity to coastline?\n",
    "    Do launch sites keep certain distance away from cities?\n"
   ]
  }
 ],
 "metadata": {},
 "nbformat": 4,
 "nbformat_minor": 5
}
