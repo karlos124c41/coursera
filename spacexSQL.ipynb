{
 "cells": [
  {
   "cell_type": "code",
   "execution_count": null,
   "id": "424b52d6",
   "metadata": {},
   "outputs": [],
   "source": [
    "import pandas as pd\n",
    "import sqlite3\n",
    "\n"
   ]
  },
  {
   "cell_type": "code",
   "execution_count": null,
   "id": "a856a80d",
   "metadata": {},
   "outputs": [],
   "source": [
    "# Create database connection\n",
    "conn = sqlite3.connect(\"my_data1.db\")\n",
    "\n"
   ]
  },
  {
   "cell_type": "code",
   "execution_count": null,
   "id": "7671f61a",
   "metadata": {},
   "outputs": [],
   "source": [
    "# Load and insert data\n",
    "df = pd.read_csv(\"https://cf-courses-data.s3.us.cloud-object-storage.appdomain.cloud/IBM-DS0321EN-SkillsNetwork/labs/module_2/data/Spacex.csv\")\n",
    "df.to_sql(\"SPACEXTBL\", conn, if_exists='replace', index=False, method=\"multi\")\n",
    "\n"
   ]
  },
  {
   "cell_type": "code",
   "execution_count": null,
   "id": "73610473",
   "metadata": {},
   "outputs": [],
   "source": [
    "# Create clean table\n",
    "cursor = conn.cursor()\n",
    "cursor.execute(\"DROP TABLE IF EXISTS SPACEXTABLE\")\n",
    "cursor.execute(\"CREATE TABLE SPACEXTABLE AS SELECT * FROM SPACEXTBL WHERE Date IS NOT NULL\")\n",
    "\n"
   ]
  },
  {
   "cell_type": "code",
   "execution_count": null,
   "id": "1507e40b",
   "metadata": {},
   "outputs": [],
   "source": [
    "# Task 1\n"
   ]
  },
  {
   "cell_type": "code",
   "execution_count": null,
   "id": "7111cb6e",
   "metadata": {},
   "outputs": [],
   "source": [
    "# Display the names of the unique launch sites in the space mission\n",
    "print(\"\\nTask 1:\")\n",
    "query1 = \"\"\"\n",
    "SELECT DISTINCT Launch_Site \n",
    "FROM SPACEXTABLE;\n",
    "\"\"\"\n",
    "cursor.execute(query1)\n",
    "sites = cursor.fetchall()\n",
    "for site in sites:\n",
    "    print(site[0])\n",
    "\n"
   ]
  },
  {
   "cell_type": "code",
   "execution_count": null,
   "id": "5f862bad",
   "metadata": {},
   "outputs": [],
   "source": [
    "# Task 2\n"
   ]
  },
  {
   "cell_type": "code",
   "execution_count": null,
   "id": "2c3a1e48",
   "metadata": {},
   "outputs": [],
   "source": [
    "# Display 5 records where launch sites begin with the string 'CCA'\n",
    "print(\"\\nTask 2:\")\n",
    "query2 = \"\"\"\n",
    "SELECT * \n",
    "FROM SPACEXTABLE \n",
    "WHERE Launch_Site LIKE 'CCA%' \n",
    "LIMIT 5;\n",
    "\"\"\"\n",
    "cursor.execute(query2)\n",
    "records = cursor.fetchall()\n",
    "for record in records:\n",
    "    print(record)\n",
    "\n"
   ]
  },
  {
   "cell_type": "code",
   "execution_count": null,
   "id": "85895456",
   "metadata": {},
   "outputs": [],
   "source": [
    "# Task 3\n"
   ]
  },
  {
   "cell_type": "code",
   "execution_count": null,
   "id": "46ae0520",
   "metadata": {},
   "outputs": [],
   "source": [
    "# Display the total payload mass carried by boosters launched by NASA (CRS)\n",
    "print(\"\\nTask 3:\")\n",
    "query3 = \"\"\"\n",
    "SELECT SUM(PAYLOAD_MASS__KG_) as total_payload \n",
    "FROM SPACEXTABLE \n",
    "WHERE Customer LIKE '%NASA (CRS)%';\n",
    "\"\"\"\n",
    "cursor.execute(query3)\n",
    "print(f\"Total payload mass: {cursor.fetchone()[0]} kg\")\n",
    "\n"
   ]
  },
  {
   "cell_type": "code",
   "execution_count": null,
   "id": "3edf7d77",
   "metadata": {},
   "outputs": [],
   "source": [
    "# Task 4\n"
   ]
  },
  {
   "cell_type": "code",
   "execution_count": null,
   "id": "10f0e1d8",
   "metadata": {},
   "outputs": [],
   "source": [
    "# Display average payload mass carried by booster version F9 v1.1\n",
    "print(\"\\nTask 4:\")\n",
    "query4 = \"\"\"\n",
    "SELECT AVG(PAYLOAD_MASS__KG_) as avg_payload \n",
    "FROM SPACEXTABLE \n",
    "WHERE Booster_Version = 'F9 v1.1';\n",
    "\"\"\"\n",
    "cursor.execute(query4)\n",
    "print(f\"Average payload mass: {cursor.fetchone()[0]} kg\")\n",
    "\n"
   ]
  },
  {
   "cell_type": "code",
   "execution_count": null,
   "id": "0eb8ebe9",
   "metadata": {},
   "outputs": [],
   "source": [
    "# Task 5\n"
   ]
  },
  {
   "cell_type": "code",
   "execution_count": null,
   "id": "44ab25a0",
   "metadata": {},
   "outputs": [],
   "source": [
    "# List the date when the first successful landing outcome in ground pad was achieved\n",
    "print(\"\\nTask 5:\")\n",
    "query5 = \"\"\"\n",
    "SELECT MIN(Date) \n",
    "FROM SPACEXTABLE \n",
    "WHERE Landing_Outcome = 'Success (ground pad)';\n",
    "\"\"\"\n",
    "cursor.execute(query5)\n",
    "print(f\"First successful ground pad landing: {cursor.fetchone()[0]}\")\n",
    "\n"
   ]
  },
  {
   "cell_type": "code",
   "execution_count": null,
   "id": "5054f153",
   "metadata": {},
   "outputs": [],
   "source": [
    "# Task 6\n"
   ]
  },
  {
   "cell_type": "code",
   "execution_count": null,
   "id": "ec0b17cd",
   "metadata": {},
   "outputs": [],
   "source": [
    "# List the boosters which have success in drone ship and payload mass between 4000-6000\n",
    "print(\"\\nTask 6:\")\n",
    "query6 = \"\"\"\n",
    "SELECT DISTINCT Booster_Version \n",
    "FROM SPACEXTABLE \n",
    "WHERE Landing_Outcome = 'Success (drone ship)' \n",
    "AND PAYLOAD_MASS__KG_ BETWEEN 4000 AND 6000;\n",
    "\"\"\"\n",
    "cursor.execute(query6)\n",
    "boosters = cursor.fetchall()\n",
    "for booster in boosters:\n",
    "    print(booster[0])\n",
    "\n"
   ]
  },
  {
   "cell_type": "code",
   "execution_count": null,
   "id": "3ba585f8",
   "metadata": {},
   "outputs": [],
   "source": [
    "# Task 7\n"
   ]
  },
  {
   "cell_type": "code",
   "execution_count": null,
   "id": "ce2ad24f",
   "metadata": {},
   "outputs": [],
   "source": [
    "# List the total number of successful and failure mission outcomes\n",
    "print(\"\\nTask 7:\")\n",
    "query7 = \"\"\"\n",
    "SELECT Mission_Outcome, COUNT(*) as count \n",
    "FROM SPACEXTABLE \n",
    "GROUP BY Mission_Outcome;\n",
    "\"\"\"\n",
    "cursor.execute(query7)\n",
    "outcomes = cursor.fetchall()\n",
    "for outcome in outcomes:\n",
    "    print(f\"{outcome[0]}: {outcome[1]}\")\n",
    "\n"
   ]
  },
  {
   "cell_type": "code",
   "execution_count": null,
   "id": "d1497011",
   "metadata": {},
   "outputs": [],
   "source": [
    "# Task 8\n"
   ]
  },
  {
   "cell_type": "code",
   "execution_count": null,
   "id": "0fb7cdf8",
   "metadata": {},
   "outputs": [],
   "source": [
    "# List the booster versions which have carried the maximum payload mass\n",
    "print(\"\\nTask 8:\")\n",
    "query8 = \"\"\"\n",
    "SELECT DISTINCT Booster_Version \n",
    "FROM SPACEXTABLE \n",
    "WHERE PAYLOAD_MASS__KG_ = (\n",
    "    SELECT MAX(PAYLOAD_MASS__KG_) \n",
    "    FROM SPACEXTABLE\n",
    ");\n",
    "\"\"\"\n",
    "cursor.execute(query8)\n",
    "max_boosters = cursor.fetchall()\n",
    "for booster in max_boosters:\n",
    "    print(booster[0])\n",
    "\n"
   ]
  },
  {
   "cell_type": "code",
   "execution_count": null,
   "id": "1f1acea0",
   "metadata": {},
   "outputs": [],
   "source": [
    "# Task 9\n"
   ]
  },
  {
   "cell_type": "code",
   "execution_count": null,
   "id": "8df26c52",
   "metadata": {},
   "outputs": [],
   "source": [
    "# List records with month names, failure landing outcomes in drone ship for 2015\n",
    "print(\"\\nTask 9:\")\n",
    "query9 = \"\"\"\n",
    "SELECT substr(Date, 6, 2) as month, \n",
    "       Landing_Outcome, \n",
    "       Booster_Version, \n",
    "       Launch_Site \n",
    "FROM SPACEXTABLE \n",
    "WHERE substr(Date, 0, 5) = '2015' \n",
    "AND Landing_Outcome LIKE '%Failure%ship%';\n",
    "\"\"\"\n",
    "cursor.execute(query9)\n",
    "records = cursor.fetchall()\n",
    "for record in records:\n",
    "    print(record)\n",
    "\n"
   ]
  },
  {
   "cell_type": "code",
   "execution_count": null,
   "id": "edfb279e",
   "metadata": {},
   "outputs": [],
   "source": [
    "# Task 10\n"
   ]
  },
  {
   "cell_type": "code",
   "execution_count": null,
   "id": "42d6194c",
   "metadata": {},
   "outputs": [],
   "source": [
    "# Rank the count of landing outcomes between 2010-06-04 and 2017-03-20\n",
    "print(\"\\nTask 10:\")\n",
    "query10 = \"\"\"\n",
    "SELECT Landing_Outcome, COUNT(*) as count \n",
    "FROM SPACEXTABLE \n",
    "WHERE Date BETWEEN '2010-06-04' AND '2017-03-20' \n",
    "GROUP BY Landing_Outcome \n",
    "ORDER BY count DESC;\n",
    "\"\"\"\n",
    "cursor.execute(query10)\n",
    "rankings = cursor.fetchall()\n",
    "for rank in rankings:\n",
    "    print(f\"{rank[0]}: {rank[1]}\")\n",
    "\n"
   ]
  },
  {
   "cell_type": "code",
   "execution_count": null,
   "id": "9b263937",
   "metadata": {},
   "outputs": [],
   "source": [
    "# Close connection\n",
    "conn.close()"
   ]
  }
 ],
 "metadata": {},
 "nbformat": 4,
 "nbformat_minor": 5
}
