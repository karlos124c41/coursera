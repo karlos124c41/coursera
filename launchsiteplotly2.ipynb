{
 "cells": [
  {
   "cell_type": "code",
   "execution_count": null,
   "id": "e188c5a5",
   "metadata": {},
   "outputs": [],
   "source": [
    "# Import required libraries\n",
    "import pandas as pd\n",
    "import dash\n",
    "import dash_html_components as html\n",
    "import dash_core_components as dcc\n",
    "from dash.dependencies import Input, Output\n",
    "import plotly.express as px\n",
    "import wget\n",
    "import webbrowser\n",
    "from threading import Timer\n",
    "import os\n",
    "\n"
   ]
  },
  {
   "cell_type": "code",
   "execution_count": null,
   "id": "548f7e91",
   "metadata": {},
   "outputs": [],
   "source": [
    "# Define the port number\n",
    "port = 8050\n",
    "\n",
    "def open_browser():\n",
    "    \"\"\"\n",
    "    Opens the web browser to the dashboard\n",
    "    \"\"\"\n",
    "    webbrowser.open_new(f'http://localhost:{port}')\n",
    "\n"
   ]
  },
  {
   "cell_type": "code",
   "execution_count": null,
   "id": "932fdfea",
   "metadata": {},
   "outputs": [],
   "source": [
    "# Download and read the spacex data\n",
    "if not os.path.exists('spacex_launch_dash.csv'):\n",
    "    spacex_csv_file = wget.download(\"https://cf-courses-data.s3.us.cloud-object-storage.appdomain.cloud/IBM-DS0321EN-SkillsNetwork/datasets/spacex_launch_dash.csv\")\n",
    "spacex_df = pd.read_csv(\"spacex_launch_dash.csv\")\n",
    "\n"
   ]
  },
  {
   "cell_type": "code",
   "execution_count": null,
   "id": "c939e842",
   "metadata": {},
   "outputs": [],
   "source": [
    "# Get payload range\n",
    "max_payload = spacex_df['Payload Mass (kg)'].max()\n",
    "min_payload = spacex_df['Payload Mass (kg)'].min()\n",
    "\n"
   ]
  },
  {
   "cell_type": "code",
   "execution_count": null,
   "id": "6bc571d9",
   "metadata": {},
   "outputs": [],
   "source": [
    "# Create a dash application\n",
    "app = dash.Dash(__name__)\n",
    "\n"
   ]
  },
  {
   "cell_type": "code",
   "execution_count": null,
   "id": "cc8cc312",
   "metadata": {},
   "outputs": [],
   "source": [
    "# Create an app layout\n",
    "app.layout = html.Div(children=[\n",
    "    html.H1('SpaceX Launch Records Dashboard',\n",
    "            style={'textAlign': 'center', 'color': '#503D36', 'font-size': 40}),\n",
    "    \n"
   ]
  },
  {
   "cell_type": "code",
   "execution_count": null,
   "id": "a61ba571",
   "metadata": {},
   "outputs": [],
   "source": [
    "    # TASK 1: Add a dropdown list to enable Launch Site selection\n",
    "    html.Div([\n",
    "        dcc.Dropdown(\n",
    "            id='site-dropdown',\n",
    "            options=[\n",
    "                {'label': 'All Sites', 'value': 'ALL'},\n",
    "                {'label': 'CCAFS LC-40', 'value': 'CCAFS LC-40'},\n",
    "                {'label': 'VAFB SLC-4E', 'value': 'VAFB SLC-4E'},\n",
    "                {'label': 'KSC LC-39A', 'value': 'KSC LC-39A'},\n",
    "                {'label': 'CCAFS SLC-40', 'value': 'CCAFS SLC-40'}\n",
    "            ],\n",
    "            value='ALL',\n",
    "            placeholder=\"Select a Launch Site here\",\n",
    "            searchable=True\n",
    "        )\n",
    "    ]),\n",
    "    html.Br(),\n",
    "\n"
   ]
  },
  {
   "cell_type": "code",
   "execution_count": null,
   "id": "c3ae5a33",
   "metadata": {},
   "outputs": [],
   "source": [
    "    # TASK 2: Add a pie chart to show the total successful launches count for all sites\n",
    "    html.Div(dcc.Graph(id='success-pie-chart')),\n",
    "    html.Br(),\n",
    "\n"
   ]
  },
  {
   "cell_type": "code",
   "execution_count": null,
   "id": "95e4d1d3",
   "metadata": {},
   "outputs": [],
   "source": [
    "    # TASK 3: Add a slider to select payload range\n",
    "    html.P(\"Payload range (Kg):\"),\n",
    "    html.Div([\n",
    "        dcc.RangeSlider(\n",
    "            id='payload-slider',\n",
    "            min=0,\n",
    "            max=10000,\n",
    "            step=1000,\n",
    "            marks={\n",
    "                0: '0 kg',\n",
    "                2500: '2500',\n",
    "                5000: '5000',\n",
    "                7500: '7500',\n",
    "                10000: '10000'\n",
    "            },\n",
    "            value=[min_payload, max_payload]\n",
    "        )\n",
    "    ]),\n",
    "\n"
   ]
  },
  {
   "cell_type": "code",
   "execution_count": null,
   "id": "03d50185",
   "metadata": {},
   "outputs": [],
   "source": [
    "    # TASK 4: Add a scatter chart to show the correlation between payload and launch success\n",
    "    html.Div(dcc.Graph(id='success-payload-scatter-chart')),\n",
    "])\n",
    "\n"
   ]
  },
  {
   "cell_type": "code",
   "execution_count": null,
   "id": "ba9c5a4d",
   "metadata": {},
   "outputs": [],
   "source": [
    "# TASK 2: Add a callback function for the pie chart\n",
    "@app.callback(\n",
    "    Output(component_id='success-pie-chart', component_property='figure'),\n",
    "    Input(component_id='site-dropdown', component_property='value')\n",
    ")\n",
    "def get_pie_chart(entered_site):\n",
    "    if entered_site == 'ALL':\n"
   ]
  },
  {
   "cell_type": "code",
   "execution_count": null,
   "id": "2fa3892b",
   "metadata": {},
   "outputs": [],
   "source": [
    "        # Calculate success counts for all sites\n",
    "        fig = px.pie(\n",
    "            spacex_df, \n",
    "            values='class',\n",
    "            names='Launch Site', \n",
    "            title='Total Success Launches By Site'\n",
    "        )\n",
    "    else:\n"
   ]
  },
  {
   "cell_type": "code",
   "execution_count": null,
   "id": "6bff527e",
   "metadata": {},
   "outputs": [],
   "source": [
    "        # Filter data for selected site\n",
    "        filtered_df = spacex_df[spacex_df['Launch Site'] == entered_site]\n",
    "        success_counts = filtered_df['class'].value_counts().reset_index()\n",
    "        success_counts.columns = ['class', 'count']\n",
    "        \n"
   ]
  },
  {
   "cell_type": "code",
   "execution_count": null,
   "id": "5e9c7903",
   "metadata": {},
   "outputs": [],
   "source": [
    "        # Create pie chart for success vs. failure\n",
    "        fig = px.pie(\n",
    "            success_counts, \n",
    "            values='count', \n",
    "            names='class',\n",
    "            title=f'Success vs Failure for {entered_site}',\n",
    "            labels={'class': 'Outcome', '1': 'Success', '0': 'Failure'}\n",
    "        )\n",
    "    return fig\n",
    "\n"
   ]
  },
  {
   "cell_type": "code",
   "execution_count": null,
   "id": "b94b36c3",
   "metadata": {},
   "outputs": [],
   "source": [
    "# TASK 4: Add a callback function for the scatter plot\n",
    "@app.callback(\n",
    "    Output(component_id='success-payload-scatter-chart', component_property='figure'),\n",
    "    [Input(component_id='site-dropdown', component_property='value'),\n",
    "     Input(component_id='payload-slider', component_property='value')]\n",
    ")\n",
    "def get_scatter_chart(entered_site, payload_range):\n"
   ]
  },
  {
   "cell_type": "code",
   "execution_count": null,
   "id": "7e7f867f",
   "metadata": {},
   "outputs": [],
   "source": [
    "    # Filter by payload range\n",
    "    low, high = payload_range\n",
    "    mask = (spacex_df['Payload Mass (kg)'] >= low) & \\\n",
    "           (spacex_df['Payload Mass (kg)'] <= high)\n",
    "    df = spacex_df[mask]\n",
    "\n",
    "    if entered_site == 'ALL':\n"
   ]
  },
  {
   "cell_type": "code",
   "execution_count": null,
   "id": "2c05a192",
   "metadata": {},
   "outputs": [],
   "source": [
    "        # Create scatter plot for all sites\n",
    "        fig = px.scatter(\n",
    "            df,\n",
    "            x='Payload Mass (kg)',\n",
    "            y='class',\n",
    "            color='Booster Version Category',\n",
    "            title='Payload vs. Success for All Sites',\n",
    "            labels={'class': 'Launch Outcome (0=Failure, 1=Success)'}\n",
    "        )\n",
    "    else:\n"
   ]
  },
  {
   "cell_type": "code",
   "execution_count": null,
   "id": "32302658",
   "metadata": {},
   "outputs": [],
   "source": [
    "        # Filter by site and create scatter plot\n",
    "        filtered_df = df[df['Launch Site'] == entered_site]\n",
    "        fig = px.scatter(\n",
    "            filtered_df,\n",
    "            x='Payload Mass (kg)',\n",
    "            y='class',\n",
    "            color='Booster Version Category',\n",
    "            title=f'Payload vs. Success for {entered_site}',\n",
    "            labels={'class': 'Launch Outcome (0=Failure, 1=Success)'}\n",
    "        )\n",
    "    \n",
    "    return fig\n",
    "\n"
   ]
  },
  {
   "cell_type": "code",
   "execution_count": null,
   "id": "e59a4d2b",
   "metadata": {},
   "outputs": [],
   "source": [
    "# Run the app\n",
    "if __name__ == '__main__':\n"
   ]
  },
  {
   "cell_type": "code",
   "execution_count": null,
   "id": "07896cd2",
   "metadata": {},
   "outputs": [],
   "source": [
    "    # Open the browser after a short delay\n",
    "    Timer(1, open_browser).start()\n",
    "    \n"
   ]
  },
  {
   "cell_type": "code",
   "execution_count": null,
   "id": "c24959b6",
   "metadata": {},
   "outputs": [],
   "source": [
    "    # Run the server with specific host and port\n",
    "    app.run_server(debug=True, host='localhost', port=port)"
   ]
  }
 ],
 "metadata": {},
 "nbformat": 4,
 "nbformat_minor": 5
}
